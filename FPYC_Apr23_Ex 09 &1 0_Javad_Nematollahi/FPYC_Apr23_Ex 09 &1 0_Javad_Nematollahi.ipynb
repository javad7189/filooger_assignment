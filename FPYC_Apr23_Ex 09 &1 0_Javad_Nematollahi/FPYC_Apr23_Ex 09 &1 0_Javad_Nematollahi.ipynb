{
 "cells": [
  {
   "attachments": {},
   "cell_type": "markdown",
   "metadata": {},
   "source": [
    "<div>\n",
    "<h2 style=\"background-color:Purple;text-align:center;border-radius:40px;border: 1px;padding: 20px; color:white\"><b>Filoger Hands On Prerequisite Python For AI <br>Exercises 09 & 10 | Deadline: 2023 17 May <br> Score: 700</h2>\n",
    "</div>"
   ]
  },
  {
   "attachments": {},
   "cell_type": "markdown",
   "metadata": {},
   "source": [
    "# Name"
   ]
  },
  {
   "cell_type": "code",
   "execution_count": null,
   "metadata": {},
   "outputs": [],
   "source": [
    "# Javad, Nematollahi"
   ]
  },
  {
   "attachments": {},
   "cell_type": "markdown",
   "metadata": {},
   "source": [
    "<h3 style=\"background-color:#ff3300\n",
    ";text-align:center;border-radius:40px;border: 1px;padding: 10px;color:white\"><b>Exercises 09<br>Score: 550</h3>"
   ]
  },
  {
   "attachments": {},
   "cell_type": "markdown",
   "metadata": {},
   "source": [
    "<h5 style=\"background-color:#1765e3;text-align:left;border-radius:40px;border: 1px;padding: 10px;color:white\"><b>1- Based on some examples (code), show the difference between list and tuple(50)</h5>"
   ]
  },
  {
   "cell_type": "code",
   "execution_count": 28,
   "metadata": {},
   "outputs": [
    {
     "name": "stdout",
     "output_type": "stream",
     "text": [
      "different between list and tuple===============================================================\n",
      "\n",
      "[1, 1, 1]\n",
      "we can not edit or delete tuple members\n",
      "\n",
      "() []\n",
      "tuple is made with () but list is made with []\n",
      "\n",
      "(14, 24, 'tuple', 44)\n",
      "we can make tuple without () like tuple4\n",
      "[1, 'a', 3, 'filoger', 6]\n",
      "[1, 'a', 3, 'filoger']\n",
      "[1, 'a', 3, 'filoger', 5]\n",
      "[5, 'filoger', 3, 'a', 1]\n",
      "similarities between list and tuple===========================================================\n",
      "\n",
      "tuple and list use index to handle their data\n",
      "\n",
      "we can move on tuple and list with for loop\n",
      "\n",
      "slicing is used in tuple,too. list1 is [('a', 3, 'python'), 'a', 3, 'filoger', 5, 6]\n",
      "\n",
      "list=[('a', 3, 'python'), 'a', 3, 'filoger', 5, 6, 66, 55, 44]\n",
      "tuple=(1, 'a', 3, 'python', 5, 6, 77, 88, 99)\n",
      "we can add two tuple or two list to each other with (+) \n",
      "\n",
      "The number of 55 in tuple2 is 0\n",
      "The number of 55 in list2 is 1\n",
      "count method act same for both tuple and list\n",
      "\n",
      "del method is used for both of them\n",
      "\n",
      "66 55 44\n",
      "77 88 99\n",
      "we can unpack tuple and list in same way\n",
      "\n"
     ]
    }
   ],
   "source": [
    "tuple1=(1,'a',3,'python',5,6)\n",
    "tuple2=(77,88,99)\n",
    "list1=[1,'a',3,'filoger',5,6]\n",
    "list2=[66,55,44]\n",
    "\n",
    "# different between list and tuple==================================================================================================================\n",
    "print('different between list and tuple===============================================================\\n')\n",
    "\n",
    "for i in range(len(list2)):\n",
    "    list2[i]=1\n",
    "print(list2)\n",
    "print('we can not edit or delete tuple members\\n')\n",
    "\n",
    "empty_tuple=()\n",
    "empty_list=[]\n",
    "print(empty_tuple , empty_list)\n",
    "print('tuple is made with () but list is made with []\\n')\n",
    "\n",
    "tuple4=14, 24 , 'tuple' , 44\n",
    "print(tuple4)\n",
    "print(f'we can make tuple without () like tuple4')\n",
    "\n",
    "#list methods ==> remove,pop,append,clear,copy,revers,sort   but tuple only have two method ==> count, index\n",
    "list1.remove(5)\n",
    "print(list1)\n",
    "list1.pop()\n",
    "print(list1)\n",
    "list1.append(5)\n",
    "print(list1)\n",
    "list1.reverse()\n",
    "print(list1)\n",
    "\n",
    "# similarities between list and tuple=============================================================================================================\n",
    "print('similarities between list and tuple===========================================================\\n')\n",
    "\n",
    "tuple1=(1,'a',3,'python',5,6)\n",
    "tuple2=(77,88,99)\n",
    "list1=[1,'a',3,'filoger',5,6]\n",
    "list2=[66,55,44]\n",
    "\n",
    "\n",
    "if tuple1[2]==list1[2]:\n",
    "    print('tuple and list use index to handle their data\\n')\n",
    "j=0\n",
    "for i in tuple1:\n",
    "    if i!=list1[j]:\n",
    "        print(\"we can move on tuple and list with for loop\\n\") \n",
    "    j+=1 \n",
    "\n",
    "list1[0]=tuple1[1:4]\n",
    "print(f'slicing is used in tuple,too. list1 is {list1}\\n')\n",
    "\n",
    "list3=list1+list2\n",
    "print(f'list={list3}')\n",
    "tuple3=tuple1+tuple2\n",
    "print(f'tuple={tuple3}')\n",
    "print('we can add two tuple or two list to each other with (+) \\n')\n",
    "\n",
    "print(f'The number of 55 in tuple2 is {tuple2.count(55)}')\n",
    "print(f'The number of 55 in list2 is {list2.count(55)}')\n",
    "print('count method act same for both tuple and list\\n')\n",
    "\n",
    "del list1\n",
    "del tuple1\n",
    "print(\"del method is used for both of them\\n\")\n",
    "\n",
    "a,b,c=list2\n",
    "print(a,b,c)\n",
    "\n",
    "a,b,c=tuple2\n",
    "print(a,b,c,)\n",
    "print('we can unpack tuple and list in same way\\n')"
   ]
  },
  {
   "attachments": {},
   "cell_type": "markdown",
   "metadata": {},
   "source": [
    "<h5 style=\"background-color:#1765e3;text-align:left;border-radius:40px;border: 1px;padding: 10px;color:white\"><b>2- Tuple(100)</h5>"
   ]
  },
  {
   "attachments": {},
   "cell_type": "markdown",
   "metadata": {},
   "source": [
    "Create an empty tuple"
   ]
  },
  {
   "cell_type": "code",
   "execution_count": 2,
   "metadata": {},
   "outputs": [
    {
     "name": "stdout",
     "output_type": "stream",
     "text": [
      "1. empty tuple ==> ()\n"
     ]
    }
   ],
   "source": [
    "empty_tuple=()\n",
    "print(f'1. empty tuple ==> {empty_tuple}')"
   ]
  },
  {
   "attachments": {},
   "cell_type": "markdown",
   "metadata": {},
   "source": [
    "Create a tuple with one item"
   ]
  },
  {
   "cell_type": "code",
   "execution_count": 3,
   "metadata": {},
   "outputs": [
    {
     "name": "stdout",
     "output_type": "stream",
     "text": [
      "2. tuple with one item ==> (1,)\n"
     ]
    }
   ],
   "source": [
    "tuple_with_one_member=(1,)\n",
    "print(f'2. tuple with one item ==> {tuple_with_one_member}')"
   ]
  },
  {
   "attachments": {},
   "cell_type": "markdown",
   "metadata": {},
   "source": [
    "Create a tuple with more than one item."
   ]
  },
  {
   "cell_type": "code",
   "execution_count": 4,
   "metadata": {},
   "outputs": [
    {
     "name": "stdout",
     "output_type": "stream",
     "text": [
      "3. tuple with more than one item ==> (56, 76, 96)\n"
     ]
    }
   ],
   "source": [
    "tuple3=56 , 76 , 96\n",
    "print(f'3. tuple with more than one item ==> {tuple3}')"
   ]
  },
  {
   "attachments": {},
   "cell_type": "markdown",
   "metadata": {},
   "source": [
    "Concatenate two tuples of Part2 and Part3"
   ]
  },
  {
   "cell_type": "code",
   "execution_count": 5,
   "metadata": {},
   "outputs": [
    {
     "name": "stdout",
     "output_type": "stream",
     "text": [
      "4. Concatenate tuple made in 2 and 3 ==> (1, 56, 76, 96)\n"
     ]
    }
   ],
   "source": [
    "tuple4=tuple_with_one_member+tuple3\n",
    "print(f'4. Concatenate tuple made in 2 and 3 ==> {tuple4}')"
   ]
  },
  {
   "attachments": {},
   "cell_type": "markdown",
   "metadata": {},
   "source": [
    "Check 1 is in tuple of Part4 or no."
   ]
  },
  {
   "cell_type": "code",
   "execution_count": 6,
   "metadata": {},
   "outputs": [
    {
     "name": "stdout",
     "output_type": "stream",
     "text": [
      "5. number 1 is in tuple\n"
     ]
    }
   ],
   "source": [
    "for i in tuple4:\n",
    "    if i==1:\n",
    "        print(f'5. number 1 is in tuple')\n",
    "        break\n",
    "else:\n",
    "    print(f'5. number 1 isnt in tuple')"
   ]
  },
  {
   "attachments": {},
   "cell_type": "markdown",
   "metadata": {},
   "source": [
    "<h5 style=\"background-color:#1765e3;text-align:left;border-radius:40px;border: 1px;padding: 10px;color:white\"><b>3- Answer the questions according to the list below.\n",
    "numbers = (10, 20, 30, 5, 40, 20, 4, 2, 1,8, 80)  (100)</h5>"
   ]
  },
  {
   "attachments": {},
   "cell_type": "markdown",
   "metadata": {},
   "source": [
    "Add 100 at the end of tuple"
   ]
  },
  {
   "cell_type": "code",
   "execution_count": 7,
   "metadata": {},
   "outputs": [
    {
     "name": "stdout",
     "output_type": "stream",
     "text": [
      "1. (10, 20, 30, 5, 40, 20, 4, 2, 1, 8, 80, 100)\n"
     ]
    }
   ],
   "source": [
    "tuple100=(100,)\n",
    "numbers = (10, 20, 30, 5, 40, 20, 4, 2, 1,8, 80)\n",
    "new_tuple=numbers+tuple100\n",
    "print(f'1. {new_tuple}')"
   ]
  },
  {
   "attachments": {},
   "cell_type": "markdown",
   "metadata": {},
   "source": [
    "Add 50 in the index of 3."
   ]
  },
  {
   "cell_type": "code",
   "execution_count": 8,
   "metadata": {},
   "outputs": [
    {
     "name": "stdout",
     "output_type": "stream",
     "text": [
      "2. (10, 20, 30, 50, 5, 40, 20, 4, 2, 1, 8, 80)\n"
     ]
    }
   ],
   "source": [
    "tuple50=(50,)\n",
    "new_tuple=numbers[0:3]+tuple50+numbers[3::]\n",
    "print(f'2. {new_tuple}')"
   ]
  },
  {
   "attachments": {},
   "cell_type": "markdown",
   "metadata": {},
   "source": [
    "Remove 30 from tuple"
   ]
  },
  {
   "cell_type": "code",
   "execution_count": 9,
   "metadata": {},
   "outputs": [
    {
     "name": "stdout",
     "output_type": "stream",
     "text": [
      "3. (10, 20, 5, 40, 20, 4, 2, 1, 8, 80)\n"
     ]
    }
   ],
   "source": [
    "new_tuple=numbers[0:2]+numbers[3::]\n",
    "print(f'3. {new_tuple}')\n"
   ]
  },
  {
   "attachments": {},
   "cell_type": "markdown",
   "metadata": {},
   "source": [
    "Edit 10 with 110"
   ]
  },
  {
   "cell_type": "code",
   "execution_count": 10,
   "metadata": {},
   "outputs": [
    {
     "name": "stdout",
     "output_type": "stream",
     "text": [
      "4. (110, 20, 30, 5, 40, 20, 4, 2, 1, 8, 80)\n"
     ]
    }
   ],
   "source": [
    "tuple50=(110,)\n",
    "new_tuple=tuple50+numbers[1::]\n",
    "print(f'4. {new_tuple}')"
   ]
  },
  {
   "attachments": {},
   "cell_type": "markdown",
   "metadata": {},
   "source": [
    "Sort the tuple."
   ]
  },
  {
   "cell_type": "code",
   "execution_count": 11,
   "metadata": {},
   "outputs": [
    {
     "name": "stdout",
     "output_type": "stream",
     "text": [
      "5. (1, 2, 4, 5, 8, 10, 20, 20, 30, 40, 80)\n"
     ]
    }
   ],
   "source": [
    "list_numbers=list(numbers)\n",
    "list_numbers.sort()\n",
    "print(f'5. {tuple(list_numbers)}')"
   ]
  },
  {
   "attachments": {},
   "cell_type": "markdown",
   "metadata": {},
   "source": [
    "<h5 style=\"background-color:#1765e3;text-align:left;border-radius:40px;border: 1px;padding: 10px;color:white\"><b>4- Write a python program that takes a list of tuple and display other list that only have\n",
    "first and last items of each tuple.</h5>"
   ]
  },
  {
   "cell_type": "code",
   "execution_count": 1,
   "metadata": {},
   "outputs": [],
   "source": [
    "# Input:[(1, 2, 3), (3, 5, 6), (4, 10, 12)]\n",
    "# Output: [(1, 3), (3, 6), (4, 12)]"
   ]
  },
  {
   "cell_type": "code",
   "execution_count": 12,
   "metadata": {},
   "outputs": [
    {
     "name": "stdout",
     "output_type": "stream",
     "text": [
      "Output: [(1, 3), (3, 6), (4, 12)]\n"
     ]
    }
   ],
   "source": [
    "#  Input:[(1, 2, 3), (3, 5, 6), (4, 10, 12)]\n",
    "Input=[(1, 2, 3),(3, 5, 6),(4, 10, 12)]\n",
    "\n",
    "for j,i in  enumerate(Input):\n",
    "    new_list=list(i)\n",
    "    new_list.pop(1)\n",
    "    Input[j]=tuple(new_list)\n",
    "print(f'Output: {Input}')"
   ]
  },
  {
   "attachments": {},
   "cell_type": "markdown",
   "metadata": {},
   "source": [
    "<h5 style=\"background-color:#1765e3;text-align:left;border-radius:40px;border: 1px;padding: 10px;color:white\"><b>5- Generate 10 different random numbers between 100 and two 200.(100)\n",
    " </h5>"
   ]
  },
  {
   "cell_type": "code",
   "execution_count": 13,
   "metadata": {},
   "outputs": [
    {
     "name": "stdout",
     "output_type": "stream",
     "text": [
      "{193, 162, 137, 106, 170, 174, 113, 149, 190, 127}\n"
     ]
    }
   ],
   "source": [
    "import random\n",
    "\n",
    "random_numbers=set()\n",
    "while len(random_numbers)!=10:\n",
    "    random_numbers.add(random.randint(100,200))\n",
    "print(random_numbers)"
   ]
  },
  {
   "attachments": {},
   "cell_type": "markdown",
   "metadata": {},
   "source": [
    "<h5 style=\"background-color:#1765e3;text-align:left;border-radius:40px;border: 1px;padding: 10px;color:white\"><b>6- Create two lists, then create a third list that contains values that are in the first list but\n",
    "not in the second list.\n",
    " </h5>"
   ]
  },
  {
   "cell_type": "code",
   "execution_count": 14,
   "metadata": {},
   "outputs": [
    {
     "name": "stdout",
     "output_type": "stream",
     "text": [
      "['d', 'b', 'c']\n"
     ]
    }
   ],
   "source": [
    "x = [\"a\", \"b\", \"c\",\"d\",\"f\"]\n",
    "y = [\"g\", \"m\", \"a\",\"f\"]\n",
    "x_set=set(x)\n",
    "\n",
    "x_set.difference_update(set(y)) \n",
    "final_list=list(x_set)\n",
    "print(final_list)"
   ]
  },
  {
   "attachments": {},
   "cell_type": "markdown",
   "metadata": {},
   "source": [
    "<h5 style=\"background-color:#1765e3;text-align:left;border-radius:40px;border: 1px;padding: 10px;color:white\"><b>7- Find two new methods for Tuple and Set.\n",
    " </h5>"
   ]
  },
  {
   "cell_type": "code",
   "execution_count": 15,
   "metadata": {},
   "outputs": [
    {
     "name": "stdout",
     "output_type": "stream",
     "text": [
      "{'2', '4', '1', '5'}\n",
      "True\n",
      "2\n",
      "3\n"
     ]
    }
   ],
   "source": [
    "# new method for set\n",
    "\n",
    "#first method=symmetric_difference\n",
    "x = {\"1\", \"2\", \"3\"}\n",
    "y = {\"3\", \"4\", \"5\"}\n",
    "z = x.symmetric_difference(y) \n",
    "print(z)\n",
    "\n",
    "#second method=issuperset\n",
    "x = {\"f\", \"e\", \"d\", \"c\", \"b\", \"a\"}\n",
    "y = {\"a\", \"b\", \"c\"}\n",
    "z = x.issuperset(y) \n",
    "print(z)\n",
    "\n",
    "# new method for Tuple\n",
    "\n",
    "#first method=count\n",
    "my_tuple = (1, 3, 7, 8, 7, 5, 4, 6, 8, 5)\n",
    "x = my_tuple.count(5)\n",
    "print(x) \n",
    "\n",
    "#second method=index\n",
    "my_tuple = (1, 3, 7, 8, 7, 5, 4, 6, 8, 5)\n",
    "x = my_tuple.index(8)\n",
    "print(x)"
   ]
  },
  {
   "attachments": {},
   "cell_type": "markdown",
   "metadata": {},
   "source": [
    "<h3 style=\"background-color:#ff3300\n",
    ";text-align:center;border-radius:40px;border: 1px;padding: 10px;color:white\"><b>Exercise 10<br>Score: 150</h3>"
   ]
  },
  {
   "attachments": {},
   "cell_type": "markdown",
   "metadata": {},
   "source": [
    "<h5 style=\"background-color:#1765e3;text-align:left;border-radius:40px;border: 1px;padding: 10px;color:white\"><b>1- Write a recursive function for the binary search algorithm. (150)\n",
    " </h5>"
   ]
  },
  {
   "cell_type": "code",
   "execution_count": 16,
   "metadata": {},
   "outputs": [
    {
     "name": "stdout",
     "output_type": "stream",
     "text": [
      "Element is present at index 3\n"
     ]
    }
   ],
   "source": [
    "def binary_search(my_array, low, high, x):\n",
    "\n",
    "    if high >= low:\n",
    " \n",
    "        mid = (high + low) // 2\n",
    "\n",
    "        if my_array[mid] == x:\n",
    "            return mid\n",
    "        elif my_array[mid] > x:\n",
    "            return binary_search(my_array, low, mid - 1, x)\n",
    "        else:\n",
    "            return binary_search(my_array, mid + 1, high, x)\n",
    " \n",
    "    else:\n",
    "        return -1\n",
    " \n",
    "my_array = [ 45, 13, 58, 62, 92 , 34 ,67 ]\n",
    "x = 62\n",
    "result = binary_search(my_array, 0, len(my_array)-1, x)\n",
    " \n",
    "if result != -1:\n",
    "    print(f\"Element is present at index {result}\")\n",
    "else:\n",
    "    print(\"Element is not present in my_array\")"
   ]
  }
 ],
 "metadata": {
  "kernelspec": {
   "display_name": "Python 3.8.0 64-bit",
   "language": "python",
   "name": "python3"
  },
  "language_info": {
   "codemirror_mode": {
    "name": "ipython",
    "version": 3
   },
   "file_extension": ".py",
   "mimetype": "text/x-python",
   "name": "python",
   "nbconvert_exporter": "python",
   "pygments_lexer": "ipython3",
   "version": "3.8.0"
  },
  "orig_nbformat": 4,
  "vscode": {
   "interpreter": {
    "hash": "8b88a585646f48e3f985d27899dcd8cb2ed93a13d15812fd97486468bab4cc1d"
   }
  }
 },
 "nbformat": 4,
 "nbformat_minor": 2
}
