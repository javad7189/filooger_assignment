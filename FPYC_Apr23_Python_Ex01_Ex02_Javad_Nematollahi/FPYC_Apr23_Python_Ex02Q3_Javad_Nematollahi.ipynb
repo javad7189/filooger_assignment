{
 "cells": [
  {
   "cell_type": "code",
   "execution_count": 5,
   "metadata": {},
   "outputs": [
    {
     "name": "stdout",
     "output_type": "stream",
     "text": [
      "the entered information is wrong\n"
     ]
    }
   ],
   "source": [
    "username = input(\"Please enter username:\")\n",
    "password = input(\"Please enter password:\")\n",
    "\n",
    "user1=\"javad\"\n",
    "pass1=\"javad\"\n",
    "\n",
    "if username==user1 and password==pass1:\n",
    "    print(\"welcome\")\n",
    "elif username!=user1 and password==pass1:   \n",
    "    print(\"The username entered is wrong\") \n",
    "elif username==user1 and password!=pass1:   \n",
    "    print(\"The entered password is wrong\") \n",
    "else:  \n",
    "    print(\"the entered information is wrong\") \n",
    "\n",
    "\n"
   ]
  }
 ],
 "metadata": {
  "kernelspec": {
   "display_name": "Python 3.11.3 64-bit",
   "language": "python",
   "name": "python3"
  },
  "language_info": {
   "codemirror_mode": {
    "name": "ipython",
    "version": 3
   },
   "file_extension": ".py",
   "mimetype": "text/x-python",
   "name": "python",
   "nbconvert_exporter": "python",
   "pygments_lexer": "ipython3",
   "version": "3.11.3"
  },
  "orig_nbformat": 4,
  "vscode": {
   "interpreter": {
    "hash": "5238573367df39f7286bb46f9ff5f08f63a01a80960060ce41e3c79b190280fa"
   }
  }
 },
 "nbformat": 4,
 "nbformat_minor": 2
}
