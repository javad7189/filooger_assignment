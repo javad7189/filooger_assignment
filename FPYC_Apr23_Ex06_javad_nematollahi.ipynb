{
  "nbformat": 4,
  "nbformat_minor": 0,
  "metadata": {
    "colab": {
      "provenance": [],
      "authorship_tag": "ABX9TyOZdY8U2UWC3a/EERKLgEvn",
      "include_colab_link": true
    },
    "kernelspec": {
      "name": "python3",
      "display_name": "Python 3"
    },
    "language_info": {
      "name": "python"
    },
    "accelerator": "GPU",
    "gpuClass": "standard"
  },
  "cells": [
    {
      "cell_type": "markdown",
      "metadata": {
        "id": "view-in-github",
        "colab_type": "text"
      },
      "source": [
        "<a href=\"https://colab.research.google.com/github/javad7189/filooger_assignment/blob/main/FPYC_Apr23_Ex06_javad_nematollahi.ipynb\" target=\"_parent\"><img src=\"https://colab.research.google.com/assets/colab-badge.svg\" alt=\"Open In Colab\"/></a>"
      ]
    },
    {
      "cell_type": "code",
      "execution_count": 2,
      "metadata": {
        "id": "a-A6RprIJn8-",
        "colab": {
          "base_uri": "https://localhost:8080/"
        },
        "outputId": "38ba1f84-c940-4e74-81d2-c4a444b34c38"
      },
      "outputs": [
        {
          "name": "stdout",
          "output_type": "stream",
          "text": [
            "Enter your choice number\n",
            ":1-add\n",
            "2-delete\n",
            "3-edit\n",
            "4-detail\n",
            "5-search\n",
            "6-exit\n",
            "6\n"
          ]
        }
      ],
      "source": [
        "import sys\n",
        "\n",
        "price=[]\n",
        "product=[]\n",
        "\n",
        "while True:\n",
        "     menu_id=int(input(\"Enter your choice number\\n:1-add\\n2-delete\\n3-edit\\n4-detail\\n5-search\\n6-exit\\n\"))\n",
        "     if menu_id==1:\n",
        "        product_new=input(\"add new product: \")\n",
        "        price_new=input(f\"add price of {product_new}: \")\n",
        "        price.append(price_new);product.append(product_new)\n",
        "        print(\"new product and its price has been successfully added\")\n",
        "     if menu_id==2:\n",
        "        delete_str=input(\"enter indexes you want to delete\\nyou can enter more than one index\\n\")\n",
        "        delete_list=[int(i)-1 for i in delete_str.split(\" \")]\n",
        "        delete_list.sort(reverse=True)\n",
        "        for i in delete_list:\n",
        "           product.pop(i);price.pop(i)\n",
        "        print(f\"index {delete_str} were deleted\")\n",
        "     if menu_id==3:\n",
        "        edit_str=input(\"enter indexes you want to edit\\nyou can enter more than one index\\n\")\n",
        "        edit_list=[int(i)-1 for i in edit_str.split(\" \")]\n",
        "        for i in edit_list:\n",
        "           product[i]=input(f\"enter new name for {product[i]}: \")\n",
        "           price[i]=input(f\"enter new price for {product[i]}: \")\n",
        "     if menu_id==4:\n",
        "        for i,j in enumerate(product):\n",
        "           print(f\"{i+1}-{j} : {price[i]}\")\n",
        "        print(f\"total number of products:{len(product)}\")\n",
        "        print(f\"average price: {sum([int(i) for i in price])/len(price)}\")\n",
        "        print(f\"The most expensive product: {product[price.index(str(max([int(i) for i in price])))]}={max([int(i) for i in price])}\")\n",
        "     if menu_id==5:\n",
        "        search_word=input(\"enter the word you want to search: \")\n",
        "        for i in product:\n",
        "           if i ==search_word:\n",
        "              print(\"there is a product with this name\")\n",
        "              break\n",
        "        else:\n",
        "           print(\"f{search_word} is not exist\")\n",
        "     if menu_id==6:\n",
        "        print(\"finish\")\n",
        "        break"
      ]
    }
  ]
}