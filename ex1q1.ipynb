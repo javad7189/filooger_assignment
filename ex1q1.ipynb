{
 "cells": [
  {
   "cell_type": "code",
   "execution_count": 1,
   "metadata": {},
   "outputs": [
    {
     "name": "stdout",
     "output_type": "stream",
     "text": [
      "type num1:<class 'float'>\n",
      "type num2:<class 'str'>\n",
      "type num3:<class 'str'>\n",
      "type student_num:<class 'str'>\n",
      "type flag:<class 'bool'>\n",
      "\n",
      "\n",
      "type num1:<class 'int'>\n",
      "type num2:<class 'int'>\n",
      "type num3:<class 'int'>\n",
      "type flag:<class 'int'>\n",
      "\n",
      "\n",
      "type num1:<class 'float'>\n",
      "type num2:<class 'float'>\n",
      "type num3:<class 'float'>\n",
      "type flag:<class 'float'>\n"
     ]
    }
   ],
   "source": [
    "num1 = 12.6\n",
    "num2 = \"050\"\n",
    "num3 = \"20.\"\n",
    "student_num = \"s98234\"\n",
    "flag = True\n",
    "print(\"type num1:\"+str(type(num1))\n",
    "+\"\\ntype num2:\"+str(type(num2))\n",
    "+\"\\ntype num3:\"+str(type(num3))\n",
    "+\"\\ntype student_num:\"+str(type(student_num))\n",
    "+\"\\ntype flag:\"+str(type(flag)))\n",
    "\n",
    "num1=int(num1)    \n",
    "num2=int(num2)\n",
    "num3=int(float(num3))\n",
    "flag=int(flag)\n",
    "print(\"\\n\\ntype num1:\"+str(type(num1))\n",
    "+\"\\ntype num2:\"+str(type(num2))\n",
    "+\"\\ntype num3:\"+str(type(num3))\n",
    "+\"\\ntype flag:\"+str(type(flag)))\n",
    "\n",
    "\n",
    "num1=float(num1)  \n",
    "num2=float(num2)\n",
    "num3=float(num3)\n",
    "flag=float(flag)\n",
    "print(\"\\n\\ntype num1:\"+str(type(num1))\n",
    "+\"\\ntype num2:\"+str(type(num2))\n",
    "+\"\\ntype num3:\"+str(type(num3))\n",
    "+\"\\ntype flag:\"+str(type(flag)))\n",
    "\n",
    "\n"
   ]
  },
  {
   "cell_type": "code",
   "execution_count": 2,
   "metadata": {},
   "outputs": [
    {
     "name": "stdout",
     "output_type": "stream",
     "text": [
      "type num1:<class 'int'>\n",
      "type num2:<class 'int'>\n",
      "type flag:<class 'str'>\n",
      "\n",
      "\n",
      "type num1:<class 'bool'>\n",
      "type num2:<class 'bool'>\n",
      "type flag:<class 'bool'>\n"
     ]
    }
   ],
   "source": [
    "num1 = -20\n",
    "num2 = 0\n",
    "flag = \"False\"\n",
    "\n",
    "print(\"type num1:\"+str(type(num1))\n",
    "+\"\\ntype num2:\"+str(type(num2))\n",
    "+\"\\ntype flag:\"+str(type(flag)))\n",
    "\n",
    "\n",
    "num1=bool(num1)  \n",
    "num2=bool(num2)\n",
    "flag=bool(flag)\n",
    "print(\"\\n\\ntype num1:\"+str(type(num1))\n",
    "+\"\\ntype num2:\"+str(type(num2))\n",
    "+\"\\ntype flag:\"+str(type(flag)))"
   ]
  }
 ],
 "metadata": {
  "kernelspec": {
   "display_name": "Python 3.11.3 64-bit",
   "language": "python",
   "name": "python3"
  },
  "language_info": {
   "codemirror_mode": {
    "name": "ipython",
    "version": 3
   },
   "file_extension": ".py",
   "mimetype": "text/x-python",
   "name": "python",
   "nbconvert_exporter": "python",
   "pygments_lexer": "ipython3",
   "version": "3.11.3"
  },
  "orig_nbformat": 4,
  "vscode": {
   "interpreter": {
    "hash": "5238573367df39f7286bb46f9ff5f08f63a01a80960060ce41e3c79b190280fa"
   }
  }
 },
 "nbformat": 4,
 "nbformat_minor": 2
}
