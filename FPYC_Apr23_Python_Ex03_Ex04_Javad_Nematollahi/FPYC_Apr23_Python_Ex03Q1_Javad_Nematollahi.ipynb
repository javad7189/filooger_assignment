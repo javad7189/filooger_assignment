{
 "cells": [
  {
   "cell_type": "code",
   "execution_count": 7,
   "metadata": {},
   "outputs": [
    {
     "name": "stdout",
     "output_type": "stream",
     "text": [
      "First character of \"python\" is: p\n",
      "Last character of \"python\" is: n\n",
      "Middle characters of \"python\" is: th\n"
     ]
    }
   ],
   "source": [
    "user_string=input(\"Please enter a string:\")\n",
    "len_string=len(user_string)\n",
    "\n",
    "print(f'First character of \"{user_string}\" is: {user_string[0]}')\n",
    "print(f'Last character of \"{user_string}\" is: {user_string[len_string-1]}')\n",
    "if len_string%2==0:\n",
    "    print(f'Middle characters of \"{user_string}\" is: {user_string[len_string//2-1:len_string//2+1]}')\n",
    "elif len_string%2!=0:\n",
    "    print(f'Middle character of \"{user_string}\" is: {user_string[len_string//2]}')"
   ]
  }
 ],
 "metadata": {
  "kernelspec": {
   "display_name": "Python 3",
   "language": "python",
   "name": "python3"
  },
  "language_info": {
   "codemirror_mode": {
    "name": "ipython",
    "version": 3
   },
   "file_extension": ".py",
   "mimetype": "text/x-python",
   "name": "python",
   "nbconvert_exporter": "python",
   "pygments_lexer": "ipython3",
   "version": "3.11.3"
  },
  "orig_nbformat": 4
 },
 "nbformat": 4,
 "nbformat_minor": 2
}
