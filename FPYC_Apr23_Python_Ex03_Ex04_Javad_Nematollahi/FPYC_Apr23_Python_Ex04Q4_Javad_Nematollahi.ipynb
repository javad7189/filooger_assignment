{
 "cells": [
  {
   "cell_type": "code",
   "execution_count": 2,
   "metadata": {},
   "outputs": [
    {
     "name": "stdout",
     "output_type": "stream",
     "text": [
      "81/0=Error\n",
      "81/1=81\n",
      "81/2=40\n",
      "81/3=27\n",
      "81/4=20\n"
     ]
    }
   ],
   "source": [
    "user_number=int(input('please enter a number: '))\n",
    "for i in range(5):\n",
    "    if i==0:\n",
    "       print(f'{user_number}/{i}=Error')\n",
    "    else:\n",
    "       print(f'{user_number}/{i}={user_number//i}')"
   ]
  }
 ],
 "metadata": {
  "kernelspec": {
   "display_name": "Python 3",
   "language": "python",
   "name": "python3"
  },
  "language_info": {
   "codemirror_mode": {
    "name": "ipython",
    "version": 3
   },
   "file_extension": ".py",
   "mimetype": "text/x-python",
   "name": "python",
   "nbconvert_exporter": "python",
   "pygments_lexer": "ipython3",
   "version": "3.11.3"
  },
  "orig_nbformat": 4
 },
 "nbformat": 4,
 "nbformat_minor": 2
}
