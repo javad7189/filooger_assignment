{
 "cells": [
  {
   "cell_type": "code",
   "execution_count": 1,
   "metadata": {},
   "outputs": [
    {
     "name": "stdout",
     "output_type": "stream",
     "text": [
      "pythommidmidmi\n"
     ]
    }
   ],
   "source": [
    "user_string1=input(f\"Please enter first string:\")\n",
    "len_string1=len(user_string1)\n",
    "user_string2=input(f\"Please enter second string:\")\n",
    "len_string2=len(user_string2)\n",
    "user_string3=input(f\"Please enter third string:\")\n",
    "len_string3=len(user_string3)\n",
    "len_avg=(len_string1+len_string2+len_string3)/3\n",
    "if len_string1>len_avg:\n",
    "    print(user_string1)\n",
    "if len_string2>len_avg:\n",
    "    print(user_string2)\n",
    "if len_string3>len_avg:\n",
    "    print(user_string3)"
   ]
  }
 ],
 "metadata": {
  "kernelspec": {
   "display_name": "Python 3",
   "language": "python",
   "name": "python3"
  },
  "language_info": {
   "codemirror_mode": {
    "name": "ipython",
    "version": 3
   },
   "file_extension": ".py",
   "mimetype": "text/x-python",
   "name": "python",
   "nbconvert_exporter": "python",
   "pygments_lexer": "ipython3",
   "version": "3.11.3"
  },
  "orig_nbformat": 4
 },
 "nbformat": 4,
 "nbformat_minor": 2
}
