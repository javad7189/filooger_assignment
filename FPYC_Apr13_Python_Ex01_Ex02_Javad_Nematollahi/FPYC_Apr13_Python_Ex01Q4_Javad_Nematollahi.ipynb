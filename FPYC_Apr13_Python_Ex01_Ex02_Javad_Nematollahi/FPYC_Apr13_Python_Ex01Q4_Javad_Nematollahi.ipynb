{
 "cells": [
  {
   "cell_type": "code",
   "execution_count": 1,
   "metadata": {},
   "outputs": [
    {
     "name": "stdout",
     "output_type": "stream",
     "text": [
      "primeter is:12.0\n",
      "area is:8.75\n"
     ]
    }
   ],
   "source": [
    "lenght=float(input(\"Please enter the lenght of Rectangle:\"))\n",
    "width=float(input(\"Please enter the width of Rectangle:\"))\n",
    "\n",
    "print(\"primeter is:\"+ str((lenght+width)*2))\n",
    "print(\"area is:\"+ str(lenght*width))"
   ]
  }
 ],
 "metadata": {
  "kernelspec": {
   "display_name": "Python 3.11.3 64-bit",
   "language": "python",
   "name": "python3"
  },
  "language_info": {
   "codemirror_mode": {
    "name": "ipython",
    "version": 3
   },
   "file_extension": ".py",
   "mimetype": "text/x-python",
   "name": "python",
   "nbconvert_exporter": "python",
   "pygments_lexer": "ipython3",
   "version": "3.11.3"
  },
  "orig_nbformat": 4,
  "vscode": {
   "interpreter": {
    "hash": "5238573367df39f7286bb46f9ff5f08f63a01a80960060ce41e3c79b190280fa"
   }
  }
 },
 "nbformat": 4,
 "nbformat_minor": 2
}
