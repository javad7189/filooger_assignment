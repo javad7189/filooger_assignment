{
 "cells": [
  {
   "cell_type": "code",
   "execution_count": 10,
   "metadata": {},
   "outputs": [
    {
     "name": "stdout",
     "output_type": "stream",
     "text": [
      "Output: 2 + 3 = 5\n"
     ]
    }
   ],
   "source": [
    "# str1='Sample1: 2 + 3 = ?'\n",
    "# str2='Sample2: 2 - 3 = ?'\n",
    "# str3='Sample3: 2 * 3 = ?'\n",
    "# str4='Sample4: 5 / 2 = ?'\n",
    "# str5='Sample5: 5 / 0 = ?'\n",
    "str1=input(\"please enter predefined strings\")\n",
    "str1_list=str1.split(' ')\n",
    "\n",
    "if str1_list[2]=='+':\n",
    "    print(f'Output: {str1_list[1]} + {str1_list[3]} {str1_list[4]} {int(str1_list[1])+int(str1_list[3])}')\n",
    "if str1_list[2]=='-':\n",
    "    print(f'Output: {str1_list[1]} {str1_list[2]} {str1_list[3]} {str1_list[4]} {int(str1_list[1])-int(str1_list[3])}')\n",
    "if str1_list[2]=='*':\n",
    "    print(f'Output: {str1_list[1]} {str1_list[2]} {str1_list[3]} {str1_list[4]} {int(str1_list[1])*int(str1_list[3])}')\n",
    "if str1_list[2]=='/':\n",
    "    if int(str1_list[3])!=0:\n",
    "        print(f'Output: {str1_list[1]} {str1_list[2]} {str1_list[3]} {str1_list[4]} {int(str1_list[1])/int(str1_list[3])}')\n",
    "    else:\n",
    "        print(f'Output: {str1_list[1]} {str1_list[2]} {str1_list[3]} {str1_list[4]} Error')"
   ]
  }
 ],
 "metadata": {
  "kernelspec": {
   "display_name": "Python 3",
   "language": "python",
   "name": "python3"
  },
  "language_info": {
   "codemirror_mode": {
    "name": "ipython",
    "version": 3
   },
   "file_extension": ".py",
   "mimetype": "text/x-python",
   "name": "python",
   "nbconvert_exporter": "python",
   "pygments_lexer": "ipython3",
   "version": "3.11.3"
  },
  "orig_nbformat": 4
 },
 "nbformat": 4,
 "nbformat_minor": 2
}
