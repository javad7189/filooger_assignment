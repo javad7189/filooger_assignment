{
 "cells": [
  {
   "cell_type": "code",
   "execution_count": 36,
   "metadata": {},
   "outputs": [
    {
     "name": "stdout",
     "output_type": "stream",
     "text": [
      "1. first item of list is 2 and last item of list is 10\n",
      "2. [15, 0, 'python', 4.6, 'java', 90]\n",
      "3.  An item equal to 90 remove from your list and new list is:\n",
      "    [2, 15, 0, 'python', 4.6, 'java', 10]\n",
      "    There isnt an item equal to 300\n",
      "4. my_list after adding 5 is:\n",
      "   [2, 15, 5, 0, 'python', 4.6, 'java', 90, 10]\n",
      "5. [2, 15, 0, 'Js', 4.6, 'java', 90, 10]\n",
      "6. [2, 15, 0, 'python', 4.6, 'java', 90, 10, 50]\n",
      "7.  yes\n"
     ]
    }
   ],
   "source": [
    "my_list = [2, 15, 0,'python', 4.6,'java',90, 10]\n",
    "\n",
    "len_list=len(my_list)\n",
    "print(f'1. first item of list is {my_list[0]} and last item of list is {my_list[len_list-1]}')\n",
    "\n",
    "second_list=my_list[1:len_list-1]\n",
    "print(f\"2. {second_list}\")\n",
    "\n",
    "\n",
    "second_list=my_list[:]\n",
    "if 90 in second_list:\n",
    "    second_list.remove(90)\n",
    "    print(f'3.  An item equal to 90 remove from your list and new list is:\\n    {second_list}')\n",
    "else:\n",
    "    print('    There isnt an item equal to 90')\n",
    "if 300 in second_list:\n",
    "    second_list.remove(300)\n",
    "    print(f'    An item equal to 300 remove from your list and new list is:\\n    {second_list}')\n",
    "else:\n",
    "    print('    There isnt an item equal to 300')\n",
    "\n",
    "\n",
    "second_list=my_list[:]\n",
    "index_0=second_list.index(0)\n",
    "index_15=second_list.index(15)\n",
    "max_index=max(index_0,index_15)\n",
    "second_list.insert(max_index,5)\n",
    "print(f'4. my_list after adding 5 is:\\n   {second_list}')\n",
    "\n",
    "\n",
    "second_list=my_list[:]\n",
    "second_list[second_list.index('python')]='Js'\n",
    "print(f'5. {second_list}')\n",
    "\n",
    "second_list=my_list[:]\n",
    "second_list.append(50)\n",
    "print(f'6. {second_list}')\n",
    "\n",
    "second_list=my_list[:]\n",
    "if second_list.count(0)>0:\n",
    "    print('7.  yes')\n",
    "else:\n",
    "    print('7. no')"
   ]
  }
 ],
 "metadata": {
  "kernelspec": {
   "display_name": "Python 3",
   "language": "python",
   "name": "python3"
  },
  "language_info": {
   "codemirror_mode": {
    "name": "ipython",
    "version": 3
   },
   "file_extension": ".py",
   "mimetype": "text/x-python",
   "name": "python",
   "nbconvert_exporter": "python",
   "pygments_lexer": "ipython3",
   "version": "3.11.3"
  },
  "orig_nbformat": 4
 },
 "nbformat": 4,
 "nbformat_minor": 2
}
