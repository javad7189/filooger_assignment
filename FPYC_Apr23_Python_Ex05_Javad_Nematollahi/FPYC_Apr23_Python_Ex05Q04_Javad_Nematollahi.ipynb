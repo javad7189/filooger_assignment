{
 "cells": [
  {
   "cell_type": "code",
   "execution_count": 11,
   "metadata": {},
   "outputs": [
    {
     "name": "stdout",
     "output_type": "stream",
     "text": [
      "min is: 1.5\n",
      "max is: 45\n",
      "sum is: 140.9\n",
      "avg is: 17.6125\n",
      "lenght is: 8\n",
      "median is: 16.0\n"
     ]
    }
   ],
   "source": [
    "Numbers = [10, 20, 20, 12, 30, 45, 2.4, 1.5]\n",
    "\n",
    "print(f'min is: {min(Numbers)}')\n",
    "print(f'max is: {max(Numbers)}')\n",
    "print(f'sum is: {sum(Numbers)}')\n",
    "print(f'avg is: {sum(Numbers)/len(Numbers)}')\n",
    "print(f'lenght is: {len(Numbers)}')\n",
    "Numbers.sort()\n",
    "mid_len=len(Numbers)//2\n",
    "if len(Numbers)%2==0:\n",
    "    print(f'median is: {(Numbers[mid_len]+Numbers[mid_len-1])/2}')\n",
    "if len(Numbers)%2==1:\n",
    "    print(f'median is: {Numbers[mid_len]}')"
   ]
  }
 ],
 "metadata": {
  "kernelspec": {
   "display_name": "Python 3",
   "language": "python",
   "name": "python3"
  },
  "language_info": {
   "codemirror_mode": {
    "name": "ipython",
    "version": 3
   },
   "file_extension": ".py",
   "mimetype": "text/x-python",
   "name": "python",
   "nbconvert_exporter": "python",
   "pygments_lexer": "ipython3",
   "version": "3.11.3"
  },
  "orig_nbformat": 4
 },
 "nbformat": 4,
 "nbformat_minor": 2
}
