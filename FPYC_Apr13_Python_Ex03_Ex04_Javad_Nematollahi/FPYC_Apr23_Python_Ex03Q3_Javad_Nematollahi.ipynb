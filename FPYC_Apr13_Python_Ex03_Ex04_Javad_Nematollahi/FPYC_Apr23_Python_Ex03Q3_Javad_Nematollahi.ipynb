{
 "cells": [
  {
   "cell_type": "code",
   "execution_count": 3,
   "metadata": {},
   "outputs": [
    {
     "name": "stdout",
     "output_type": "stream",
     "text": [
      "redpythonred\n"
     ]
    }
   ],
   "source": [
    "first_str=input(\"please enter first string: \")\n",
    "second_str=input(\"please enter second string: \")\n",
    "len_str2=len(second_str)\n",
    "if first_str.find(second_str)!=-1:\n",
    "    first_str=first_str.replace(second_str,'')\n",
    "    print(first_str)\n",
    "else:\n",
    "    print(second_str+first_str+second_str)"
   ]
  },
  {
   "cell_type": "code",
   "execution_count": null,
   "metadata": {},
   "outputs": [],
   "source": []
  }
 ],
 "metadata": {
  "kernelspec": {
   "display_name": "Python 3",
   "language": "python",
   "name": "python3"
  },
  "language_info": {
   "codemirror_mode": {
    "name": "ipython",
    "version": 3
   },
   "file_extension": ".py",
   "mimetype": "text/x-python",
   "name": "python",
   "nbconvert_exporter": "python",
   "pygments_lexer": "ipython3",
   "version": "3.11.3"
  },
  "orig_nbformat": 4
 },
 "nbformat": 4,
 "nbformat_minor": 2
}
