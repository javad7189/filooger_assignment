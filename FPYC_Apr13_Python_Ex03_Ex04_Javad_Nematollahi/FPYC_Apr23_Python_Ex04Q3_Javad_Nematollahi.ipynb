{
 "cells": [
  {
   "cell_type": "code",
   "execution_count": 1,
   "metadata": {},
   "outputs": [
    {
     "name": "stdout",
     "output_type": "stream",
     "text": [
      "6*0=0\n",
      "6*2=12\n",
      "6*4=24\n",
      "6*6=36\n",
      "6*8=48\n",
      "6*10=60\n"
     ]
    }
   ],
   "source": [
    "user_number=int(input('please enter a number:'))\n",
    "for i in range(0,12,2):\n",
    "    print(f'{user_number}*{i}={user_number*i}')"
   ]
  }
 ],
 "metadata": {
  "kernelspec": {
   "display_name": "Python 3",
   "language": "python",
   "name": "python3"
  },
  "language_info": {
   "codemirror_mode": {
    "name": "ipython",
    "version": 3
   },
   "file_extension": ".py",
   "mimetype": "text/x-python",
   "name": "python",
   "nbconvert_exporter": "python",
   "pygments_lexer": "ipython3",
   "version": "3.11.3"
  },
  "orig_nbformat": 4
 },
 "nbformat": 4,
 "nbformat_minor": 2
}
