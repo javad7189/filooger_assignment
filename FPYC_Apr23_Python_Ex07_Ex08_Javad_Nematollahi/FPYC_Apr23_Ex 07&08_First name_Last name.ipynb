{
 "cells": [
  {
   "attachments": {},
   "cell_type": "markdown",
   "metadata": {},
   "source": [
    "<div>\n",
    "<h2 style=\"background-color:Purple;text-align:center;border-radius:40px;border: 1px;padding: 20px;\"><b>Filoger Hands On Prerequisite Python For AI <br>Exercises 07 & 08 | Deadline: 2023 9 May <br> Score: 700</h2>\n",
    "</div>"
   ]
  },
  {
   "attachments": {},
   "cell_type": "markdown",
   "metadata": {},
   "source": [
    "# Name"
   ]
  },
  {
   "cell_type": "code",
   "execution_count": null,
   "metadata": {},
   "outputs": [],
   "source": [
    "# Javad, Nematollahi"
   ]
  },
  {
   "attachments": {},
   "cell_type": "markdown",
   "metadata": {},
   "source": [
    "<h3 style=\"background-color:#ff3300\n",
    ";text-align:center;border-radius:40px;border: 1px;padding: 10px;\"><b>Exercises 07<br>Score: 400</h3>"
   ]
  },
  {
   "attachments": {},
   "cell_type": "markdown",
   "metadata": {},
   "source": [
    "<h5 style=\"background-color:#1765e3;text-align:left;border-radius:40px;border: 1px;padding: 10px;\"><b>1- Write the product management project (exercise 6) using functions. (150)</h5>"
   ]
  },
  {
   "cell_type": "code",
   "execution_count": 47,
   "metadata": {},
   "outputs": [
    {
     "name": "stdout",
     "output_type": "stream",
     "text": [
      "finish\n"
     ]
    }
   ],
   "source": [
    "import sys\n",
    "\n",
    "price=[]\n",
    "product=[]\n",
    "\n",
    "def add():\n",
    "        product_new=input(\"add new product: \")\n",
    "        price_new=input(f\"add price of {product_new}: \")\n",
    "        price.append(price_new);product.append(product_new)\n",
    "        print(\"new product and its price has been successfully added\")\n",
    "\n",
    "def delete():     \n",
    "        delete_str=input(\"enter indexes you want to delete\\nyou can enter more than one index\\n\")\n",
    "        delete_list=[int(i)-1 for i in delete_str.split(\" \")]\n",
    "        delete_list.sort(reverse=True)\n",
    "        for i in delete_list:\n",
    "           product.pop(i);price.pop(i)\n",
    "        print(f\"index {delete_str} were deleted\")\n",
    "\n",
    "def edit():\n",
    "        edit_str=input(\"enter indexes you want to edit\\nyou can enter more than one index\\n\")\n",
    "        edit_list=[int(i)-1 for i in edit_str.split(\" \")]\n",
    "        for i in edit_list:\n",
    "           product[i]=input(f\"enter new name for {product[i]}: \")\n",
    "           price[i]=input(f\"enter new price for {product[i]}: \")\n",
    "def detail():\n",
    "        for i,j in enumerate(product):\n",
    "           print(f\"{i+1}-{j} : {price[i]}\")\n",
    "        print(f\"total number of products:{len(product)}\")\n",
    "        print(f\"average price: {sum([int(i) for i in price])/len(price)}\")\n",
    "        print(f\"The most expensive product: {product[price.index(str(max([int(i) for i in price])))]}={max([int(i) for i in price])}\")\n",
    "\n",
    "def search():\n",
    "        search_word=input(\"enter the word you want to search: \")\n",
    "        for i in product:\n",
    "           if i ==search_word:\n",
    "              print(\"there is a product with this name\")\n",
    "              break\n",
    "        else:\n",
    "           print(\"f{search_word} is not exist\")\n",
    "\n",
    "def exit():\n",
    "        print(\"finish\")\n",
    "                 \n",
    "while True:\n",
    "     menu_id=int(input(\"Enter your choice number:\\n1-add\\n2-delete\\n3-edit\\n4-detail\\n5-search\\n6-exit\\n\"))\n",
    "     if menu_id==1:\n",
    "        add()\n",
    "     if menu_id==2:\n",
    "        delete()\n",
    "     if menu_id==3:\n",
    "        edit()\n",
    "     if menu_id==4:\n",
    "        detail()\n",
    "     if menu_id==5:\n",
    "        search()\n",
    "     if menu_id==6:\n",
    "        exit()\n",
    "        break"
   ]
  },
  {
   "attachments": {},
   "cell_type": "markdown",
   "metadata": {},
   "source": [
    "<h5 style=\"background-color:#1765e3;text-align:left;border-radius:40px;border: 1px;padding: 10px;\"><b>2- Write the question 2 of exercise 5 using functions (100)</h5>"
   ]
  },
  {
   "cell_type": "code",
   "execution_count": 46,
   "metadata": {},
   "outputs": [
    {
     "name": "stdout",
     "output_type": "stream",
     "text": [
      "Output: 5 / 2 = 2.5\n"
     ]
    }
   ],
   "source": [
    "  # str1='Sample1: 2 + 3 = ?'\n",
    "  # str2='Sample2: 2 - 3 = ?'\n",
    "  # str3='Sample3: 2 * 3 = ?'\n",
    "  # str4='Sample4: 5 / 2 = ?'\n",
    "  # str5='Sample5: 5 / 0 = ?'\n",
    "  \n",
    "def summ():\n",
    "   print(f'Output: {str1_list[1]} {str1_list[2]} {str1_list[3]} {str1_list[4]} {int(str1_list[1])+int(str1_list[3])}')\n",
    "def subb():  \n",
    "   print(f'Output: {str1_list[1]} {str1_list[2]} {str1_list[3]} {str1_list[4]} {int(str1_list[1])-int(str1_list[3])}')\n",
    "def multiply():\n",
    "   print(f'Output: {str1_list[1]} {str1_list[2]} {str1_list[3]} {str1_list[4]} {int(str1_list[1])*int(str1_list[3])}')\n",
    "def division():\n",
    "   if int(str1_list[3])!=0:\n",
    "      print(f'Output: {str1_list[1]} {str1_list[2]} {str1_list[3]} {str1_list[4]} {int(str1_list[1])/int(str1_list[3])}')\n",
    "   else:\n",
    "      print(f'Output: {str1_list[1]} {str1_list[2]} {str1_list[3]} {str1_list[4]} Error')\n",
    "\n",
    "\n",
    "str1=input(\"please enter predefined strings\")\n",
    "str1_list=str1.split(' ')\n",
    "if str1_list[2]=='+':\n",
    "   summ()\n",
    "if str1_list[2]=='-':\n",
    "   subb()\n",
    "if str1_list[2]=='*':\n",
    "   multiply()\n",
    "if str1_list[2]=='/':\n",
    "   division()"
   ]
  },
  {
   "attachments": {},
   "cell_type": "markdown",
   "metadata": {},
   "source": [
    "<h5 style=\"background-color:#1765e3;text-align:left;border-radius:40px;border: 1px;padding: 10px;\"><b>3- Receive two strings from the user in the following format, then receive one of the +, - and * and perform the requested calculations.(150)</h5>"
   ]
  },
  {
   "cell_type": "code",
   "execution_count": 45,
   "metadata": {},
   "outputs": [
    {
     "name": "stdout",
     "output_type": "stream",
     "text": [
      "Output: 1 4 9 "
     ]
    }
   ],
   "source": [
    "edame=1\n",
    "\n",
    "def process(a,b):\n",
    "    result=[]\n",
    "    min_lenght=min(len(a),len(b))\n",
    "    print('Output: ',end='')\n",
    "    for i in range(0,min_lenght,2):\n",
    "        if sign_in=='+':\n",
    "            result.append(int(a[i])+int(b[i]))\n",
    "        if sign_in=='-':\n",
    "            result.append(int(a[i])-int(b[i]))\n",
    "        if sign_in=='*':\n",
    "            result.append(int(a[i])*int(b[i]))\n",
    "        print(f'{result[i//2] }',end=' ')\n",
    "        \n",
    "\n",
    "\n",
    "while edame==1:\n",
    "    first_in=input(\"Please enter the first string:\")\n",
    "    second_in=input(\"Please enter the second string:\")\n",
    "    sign_in=input(\"Please enter the sign:\")\n",
    "    process(first_in,second_in)\n",
    "    edame=int(input(\"Continue: press 1\\n  Exit:   press any key\"))\n"
   ]
  },
  {
   "attachments": {},
   "cell_type": "markdown",
   "metadata": {},
   "source": [
    "<h3 style=\"background-color:#ff3300\n",
    ";text-align:center;border-radius:40px;border: 1px;padding: 10px;\"><b>Exercises 08<br>Score: 300</h3>"
   ]
  },
  {
   "attachments": {},
   "cell_type": "markdown",
   "metadata": {},
   "source": [
    "<h5 style=\"background-color:#1765e3;text-align:left;border-radius:40px;border: 1px;padding: 10px;\"><b>1- (Dictionary) : Answer the following questions based on the dictionary topic.\n",
    "</h5>"
   ]
  },
  {
   "attachments": {},
   "cell_type": "markdown",
   "metadata": {},
   "source": [
    "<h5>A) Create a product dictionary that contains the following information.</h5>"
   ]
  },
  {
   "cell_type": "code",
   "execution_count": 4,
   "metadata": {},
   "outputs": [],
   "source": [
    "product_dict={\"product_code\":\"01\",\"product_name\":\"pen_1\",\"product_price\":\"100\",\"product_quality\":\"low\",\"product_sales_branch\":\"Ave No.1\"}"
   ]
  },
  {
   "attachments": {},
   "cell_type": "markdown",
   "metadata": {},
   "source": [
    "<h5>B) Get a number from the user and create a list of products as long as the entered number.</h5>"
   ]
  },
  {
   "cell_type": "code",
   "execution_count": 29,
   "metadata": {},
   "outputs": [
    {
     "name": "stdout",
     "output_type": "stream",
     "text": [
      "[{'product_code': 1, 'product_name': 'pencil_1', 'product_price': 500, 'product_quality': 'high', 'product_sales_branch': 'Ave No.1'}, {'product_code': 2, 'product_name': 'pencil_2', 'product_price': 400, 'product_quality': 'high', 'product_sales_branch': 'Ave No.2'}, {'product_code': 3, 'product_name': 'pencil_3', 'product_price': 300, 'product_quality': 'high', 'product_sales_branch': 'Ave No.3'}, {'product_code': 4, 'product_name': 'pencil_4', 'product_price': 200, 'product_quality': 'high', 'product_sales_branch': 'Ave No.4'}, {'product_code': 5, 'product_name': 'pencil_5', 'product_price': 100, 'product_quality': 'high', 'product_sales_branch': 'Ave No.5'}]\n"
     ]
    }
   ],
   "source": [
    "product_list=[]\n",
    "user_number=int(input(\"please enter the number of products\"))\n",
    "for i in range(user_number):\n",
    "    product_dict={'product_code':i+1,'product_name':f'pencil_{i+1}','product_price':(user_number-i)*100,'product_quality':'high','product_sales_branch':f'Ave No.{i+1}'}\n",
    "    product_list.append(product_dict)\n",
    "print(product_list)\n"
   ]
  },
  {
   "attachments": {},
   "cell_type": "markdown",
   "metadata": {},
   "source": [
    "<h5>C) Display the price of the first product.</h5>"
   ]
  },
  {
   "cell_type": "code",
   "execution_count": 30,
   "metadata": {},
   "outputs": [
    {
     "name": "stdout",
     "output_type": "stream",
     "text": [
      "500\n"
     ]
    }
   ],
   "source": [
    "print(product_list[0]['product_price'])"
   ]
  },
  {
   "attachments": {},
   "cell_type": "markdown",
   "metadata": {},
   "source": [
    "<h5>D) Remove the branch from all products.</h5>"
   ]
  },
  {
   "cell_type": "code",
   "execution_count": 31,
   "metadata": {},
   "outputs": [
    {
     "name": "stdout",
     "output_type": "stream",
     "text": [
      "[{'product_code': 1, 'product_name': 'pencil_1', 'product_price': 500, 'product_quality': 'high'}, {'product_code': 2, 'product_name': 'pencil_2', 'product_price': 400, 'product_quality': 'high'}, {'product_code': 3, 'product_name': 'pencil_3', 'product_price': 300, 'product_quality': 'high'}, {'product_code': 4, 'product_name': 'pencil_4', 'product_price': 200, 'product_quality': 'high'}, {'product_code': 5, 'product_name': 'pencil_5', 'product_price': 100, 'product_quality': 'high'}]\n"
     ]
    }
   ],
   "source": [
    "for i in product_list:\n",
    "    i.pop('product_sales_branch')\n",
    "print(product_list)"
   ]
  },
  {
   "attachments": {},
   "cell_type": "markdown",
   "metadata": {},
   "source": [
    "<h5>E) Display product prices in a list in order.</h5>"
   ]
  },
  {
   "cell_type": "code",
   "execution_count": 32,
   "metadata": {},
   "outputs": [
    {
     "name": "stdout",
     "output_type": "stream",
     "text": [
      "[100, 200, 300, 400, 500]\n"
     ]
    }
   ],
   "source": [
    "price_list=[]\n",
    "for i in product_list:\n",
    "    price_list.append(i['product_price'])\n",
    "price_list.sort()\n",
    "print(price_list)"
   ]
  },
  {
   "attachments": {},
   "cell_type": "markdown",
   "metadata": {},
   "source": [
    "<h5> F) Show average prices.</h5>"
   ]
  },
  {
   "cell_type": "code",
   "execution_count": 35,
   "metadata": {},
   "outputs": [
    {
     "name": "stdout",
     "output_type": "stream",
     "text": [
      "300.0\n"
     ]
    }
   ],
   "source": [
    "ave_price=sum(price_list)/len(price_list)\n",
    "print(ave_price)"
   ]
  }
 ],
 "metadata": {
  "kernelspec": {
   "display_name": "Python 3.8.0 64-bit",
   "language": "python",
   "name": "python3"
  },
  "language_info": {
   "codemirror_mode": {
    "name": "ipython",
    "version": 3
   },
   "file_extension": ".py",
   "mimetype": "text/x-python",
   "name": "python",
   "nbconvert_exporter": "python",
   "pygments_lexer": "ipython3",
   "version": "3.11.3"
  },
  "orig_nbformat": 4,
  "vscode": {
   "interpreter": {
    "hash": "8b88a585646f48e3f985d27899dcd8cb2ed93a13d15812fd97486468bab4cc1d"
   }
  }
 },
 "nbformat": 4,
 "nbformat_minor": 2
}
